{
 "cells": [
  {
   "cell_type": "code",
   "execution_count": 1,
   "id": "a2ae7b8e-59bb-4c5b-be1d-56e4a8f66f65",
   "metadata": {},
   "outputs": [
    {
     "name": "stdout",
     "output_type": "stream",
     "text": [
      "Toyota Camry has a Petrol engine.\n",
      "Ford Mustang has a Petrol engine.\n",
      "The Toyota Camry is now moving at 50 km/h.\n",
      "The Ford Mustang is now moving at 30 km/h.\n",
      "The Toyota Camry has slowed down to 30 km/h.\n",
      "The Ford Mustang has slowed down to 15 km/h.\n"
     ]
    }
   ],
   "source": [
    "#1.In Object-Oriented Programming (OOP), a class is a blueprint or a template for creating objects. An object, on the other hand, is an instance \n",
    "# of a class. Classes define the properties (attributes) and behaviors (methods) that objects of that class will have. This paradigm allows\n",
    "# for the organization of code into modular and reusable structures.\n",
    "# Define the Car class\n",
    "class Car:\n",
    "    # Class attribute\n",
    "    fuel_type = \"Petrol\"\n",
    "\n",
    "    # Constructor method to initialize object attributes\n",
    "    def __init__(self, make, model):\n",
    "        # Instance attributes\n",
    "        self.make = make\n",
    "        self.model = model\n",
    "        self.speed = 0\n",
    "\n",
    "    # Method to accelerate the car\n",
    "    def accelerate(self, speed_increase):\n",
    "        self.speed += speed_increase\n",
    "        print(f\"The {self.make} {self.model} is now moving at {self.speed} km/h.\")\n",
    "\n",
    "    # Method to brake the car\n",
    "    def brake(self, speed_decrease):\n",
    "        self.speed -= speed_decrease\n",
    "        if self.speed < 0:\n",
    "            self.speed = 0\n",
    "        print(f\"The {self.make} {self.model} has slowed down to {self.speed} km/h.\")\n",
    "\n",
    "# Creating objects (instances) of the Car class\n",
    "car1 = Car(\"Toyota\", \"Camry\")\n",
    "car2 = Car(\"Ford\", \"Mustang\")\n",
    "\n",
    "# Accessing attributes of objects\n",
    "print(f\"{car1.make} {car1.model} has a {Car.fuel_type} engine.\")\n",
    "print(f\"{car2.make} {car2.model} has a {Car.fuel_type} engine.\")\n",
    "\n",
    "# Invoking methods on objects\n",
    "car1.accelerate(50)\n",
    "car2.accelerate(30)\n",
    "\n",
    "car1.brake(20)\n",
    "car2.brake(15)\n",
    "\n"
   ]
  },
  {
   "cell_type": "code",
   "execution_count": 2,
   "id": "dd61c2b9-70be-4b42-8462-b1b4bfe1ab7d",
   "metadata": {},
   "outputs": [],
   "source": [
    "#2.Encapsulation: Encapsulation is the bundling of data (attributes) and methods (functions) that operate on the data into a single unit known as a class. It helps in hiding the internal details of the object and exposing only what is necessary. Access to the internal workings of an object is controlled, often using access modifiers like public, private, and protected.\n",
    "\n",
    "# Inheritance: Inheritance is the mechanism by which a new class (subclass or derived class) can inherit properties and behaviors from an existing class (superclass or base class). This promotes code reuse and establishes a relationship between classes, where the subclass can extend or specialize the functionalities of the superclass.\n",
    "\n",
    "# Polymorphism: Polymorphism allows objects of different classes to be treated as objects of a common base class. There are two types of polymorphism: compile-time (method overloading) and runtime (method overriding). Method overloading involves having multiple methods with the same name but different parameter lists within the same class, while method overriding involves providing a specific implementation of a method in a subclass that is already defined in its superclass.\n",
    "\n",
    "# Abstraction: Abstraction is the process of simplifying complex systems by modeling classes based on the essential properties and behaviors they possess. It involves focusing on the essential characteristics of an object while ignoring unnecessary details. Abstraction allows developers to create abstract classes and interfaces, providing a clear separation between what an object does and how it achieves its functionality.\n",
    "\n",
    "# These four pillars collectively provide a foundation for designing and organizing code in an object-oriented manner, making it more modular, reusable, and easier to understand."
   ]
  },
  {
   "cell_type": "code",
   "execution_count": 3,
   "id": "b7a56250-d175-4da2-8100-8500ebba6b75",
   "metadata": {},
   "outputs": [
    {
     "name": "stdout",
     "output_type": "stream",
     "text": [
      "Hi, I'm Alice and I am 25 years old.\n",
      "Hi, I'm Bob and I am 30 years old.\n"
     ]
    }
   ],
   "source": [
    "#3.The __init__() function in Python is a special method, also known as a constructor. It is automatically called when an object is created from a class. The primary purpose of the __init__() method is to initialize\n",
    "#the attributes of the object, providing initial values for them. This helps ensure that objects have a consistent and valid state when they are created.\n",
    "class Person:\n",
    "    # The __init__ method is the constructor\n",
    "    def __init__(self, name, age):\n",
    "        # Instance attributes\n",
    "        self.name = name\n",
    "        self.age = age\n",
    "\n",
    "    def introduce(self):\n",
    "        print(f\"Hi, I'm {self.name} and I am {self.age} years old.\")\n",
    "\n",
    "# Creating objects (instances) of the Person class\n",
    "person1 = Person(\"Alice\", 25)\n",
    "person2 = Person(\"Bob\", 30)\n",
    "\n",
    "# Accessing attributes and invoking methods on objects\n",
    "person1.introduce()\n",
    "person2.introduce()\n"
   ]
  },
  {
   "cell_type": "code",
   "execution_count": 4,
   "id": "46ca04fd-5b9d-4c44-bd08-ae9d0d796135",
   "metadata": {},
   "outputs": [],
   "source": [
    "#4.n object-oriented programming (OOP), self is a convention used in many object-oriented languages, including Python. It refers to the instance of the class and is used to access the attributes and methods of that instance within the class.\n",
    "class MyClass:\n",
    "    def __init__(self, attribute1, attribute2):\n",
    "        self.attribute1 = attribute1\n",
    "        self.attribute2 = attribute2\n",
    "\n",
    "    def my_method(self):\n",
    "        print(f\"This is a method of {self.attribute1}.\")\n"
   ]
  },
  {
   "cell_type": "code",
   "execution_count": 5,
   "id": "146a4ec0-c1ff-432a-8285-70cb503e2ba3",
   "metadata": {},
   "outputs": [
    {
     "name": "stdout",
     "output_type": "stream",
     "text": [
      "Animal speaks\n",
      "Dog barks\n"
     ]
    }
   ],
   "source": [
    "#5.Inheritance is a fundamental concept in object-oriented programming (OOP) that allows a new class (subclass or derived class) to inherit attributes and behaviors from an existing class (superclass or base class). The subclass can extend or specialize the functionalities of the superclass, promoting code reuse and establishing a hierarchical relationship between classes.\n",
    "class Animal:\n",
    "    def speak(self):\n",
    "        print(\"Animal speaks\")\n",
    "\n",
    "class Dog(Animal):\n",
    "    def bark(self):\n",
    "        print(\"Dog barks\")\n",
    "\n",
    "# Creating an instance of the Dog class\n",
    "my_dog = Dog()\n",
    "\n",
    "# Accessing methods from both Animal and Dog classes\n",
    "my_dog.speak()  # Output: Animal speaks\n",
    "my_dog.bark()   # Output: Dog barks\n"
   ]
  },
  {
   "cell_type": "code",
   "execution_count": null,
   "id": "c82bfc10-98a5-4ce4-abe5-84317ff39143",
   "metadata": {},
   "outputs": [],
   "source": []
  }
 ],
 "metadata": {
  "kernelspec": {
   "display_name": "Python 3 (ipykernel)",
   "language": "python",
   "name": "python3"
  },
  "language_info": {
   "codemirror_mode": {
    "name": "ipython",
    "version": 3
   },
   "file_extension": ".py",
   "mimetype": "text/x-python",
   "name": "python",
   "nbconvert_exporter": "python",
   "pygments_lexer": "ipython3",
   "version": "3.10.8"
  }
 },
 "nbformat": 4,
 "nbformat_minor": 5
}
